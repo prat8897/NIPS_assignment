{
  "nbformat": 4,
  "nbformat_minor": 0,
  "metadata": {
    "colab": {
      "name": "NIPS_AE_on_Coords_Test.ipynb",
      "provenance": []
    },
    "kernelspec": {
      "name": "python3",
      "display_name": "Python 3"
    },
    "accelerator": "GPU"
  },
  "cells": [
    {
      "cell_type": "code",
      "metadata": {
        "colab": {
          "base_uri": "https://localhost:8080/"
        },
        "id": "g7J73054mCaJ",
        "outputId": "28a5bcde-0fc5-4ccd-b7ca-67a63e150441"
      },
      "source": [
        "!pip install mxnet-cu101"
      ],
      "execution_count": 4,
      "outputs": [
        {
          "output_type": "stream",
          "text": [
            "Requirement already satisfied: mxnet-cu101 in /usr/local/lib/python3.6/dist-packages (1.7.0)\n",
            "Requirement already satisfied: numpy<2.0.0,>1.16.0 in /usr/local/lib/python3.6/dist-packages (from mxnet-cu101) (1.18.5)\n",
            "Requirement already satisfied: graphviz<0.9.0,>=0.8.1 in /usr/local/lib/python3.6/dist-packages (from mxnet-cu101) (0.8.4)\n",
            "Requirement already satisfied: requests<3,>=2.20.0 in /usr/local/lib/python3.6/dist-packages (from mxnet-cu101) (2.23.0)\n",
            "Requirement already satisfied: chardet<4,>=3.0.2 in /usr/local/lib/python3.6/dist-packages (from requests<3,>=2.20.0->mxnet-cu101) (3.0.4)\n",
            "Requirement already satisfied: urllib3!=1.25.0,!=1.25.1,<1.26,>=1.21.1 in /usr/local/lib/python3.6/dist-packages (from requests<3,>=2.20.0->mxnet-cu101) (1.24.3)\n",
            "Requirement already satisfied: certifi>=2017.4.17 in /usr/local/lib/python3.6/dist-packages (from requests<3,>=2.20.0->mxnet-cu101) (2020.11.8)\n",
            "Requirement already satisfied: idna<3,>=2.5 in /usr/local/lib/python3.6/dist-packages (from requests<3,>=2.20.0->mxnet-cu101) (2.10)\n"
          ],
          "name": "stdout"
        }
      ]
    },
    {
      "cell_type": "code",
      "metadata": {
        "id": "n70DCLNpmGgk"
      },
      "source": [
        "import os\n",
        "\n",
        "import mxnet as mx\n",
        "import numpy as np\n",
        "import torch\n",
        "from mxnet import gluon\n",
        "\n",
        "import pandas as pd\n",
        "import matplotlib.pyplot as plt\n"
      ],
      "execution_count": 5,
      "outputs": []
    },
    {
      "cell_type": "code",
      "metadata": {
        "colab": {
          "base_uri": "https://localhost:8080/",
          "height": 253
        },
        "id": "SqY1Qb_Cs-k9",
        "outputId": "b7d00acb-3e20-443e-e5cd-3a8752e7c6ce"
      },
      "source": [
        "# sample coords contains a sample of coordinates for red and blue\n",
        "df = pd.read_csv('sample_coords.csv', header=None)\n",
        "df.columns=['x1','y1', 'x2','y2']\n",
        "print(df.shape)\n",
        "x_bounds = [min(min(df.x1), min(df.x2)) , max(max(df.x1), max(df.x2))]\n",
        "y_bounds = [min(min(df.y1), min(df.y2)) , max(max(df.y1), max(df.y2))]\n",
        "print(x_bounds)\n",
        "print(y_bounds)\n",
        "df.head()"
      ],
      "execution_count": 6,
      "outputs": [
        {
          "output_type": "stream",
          "text": [
            "(2307, 4)\n",
            "[-120.0, 62.0]\n",
            "[-120.0, 118.5]\n"
          ],
          "name": "stdout"
        },
        {
          "output_type": "execute_result",
          "data": {
            "text/html": [
              "<div>\n",
              "<style scoped>\n",
              "    .dataframe tbody tr th:only-of-type {\n",
              "        vertical-align: middle;\n",
              "    }\n",
              "\n",
              "    .dataframe tbody tr th {\n",
              "        vertical-align: top;\n",
              "    }\n",
              "\n",
              "    .dataframe thead th {\n",
              "        text-align: right;\n",
              "    }\n",
              "</style>\n",
              "<table border=\"1\" class=\"dataframe\">\n",
              "  <thead>\n",
              "    <tr style=\"text-align: right;\">\n",
              "      <th></th>\n",
              "      <th>x1</th>\n",
              "      <th>y1</th>\n",
              "      <th>x2</th>\n",
              "      <th>y2</th>\n",
              "    </tr>\n",
              "  </thead>\n",
              "  <tbody>\n",
              "    <tr>\n",
              "      <th>0</th>\n",
              "      <td>-57.714286</td>\n",
              "      <td>80.142857</td>\n",
              "      <td>-62.125000</td>\n",
              "      <td>-83.500000</td>\n",
              "    </tr>\n",
              "    <tr>\n",
              "      <th>1</th>\n",
              "      <td>-59.333333</td>\n",
              "      <td>59.833333</td>\n",
              "      <td>-63.250000</td>\n",
              "      <td>-62.125000</td>\n",
              "    </tr>\n",
              "    <tr>\n",
              "      <th>2</th>\n",
              "      <td>-66.200000</td>\n",
              "      <td>42.000000</td>\n",
              "      <td>-65.100000</td>\n",
              "      <td>-46.200000</td>\n",
              "    </tr>\n",
              "    <tr>\n",
              "      <th>3</th>\n",
              "      <td>-59.333333</td>\n",
              "      <td>31.000000</td>\n",
              "      <td>-64.142857</td>\n",
              "      <td>-29.428571</td>\n",
              "    </tr>\n",
              "    <tr>\n",
              "      <th>4</th>\n",
              "      <td>-60.833333</td>\n",
              "      <td>14.166667</td>\n",
              "      <td>-59.444444</td>\n",
              "      <td>-13.000000</td>\n",
              "    </tr>\n",
              "  </tbody>\n",
              "</table>\n",
              "</div>"
            ],
            "text/plain": [
              "          x1         y1         x2         y2\n",
              "0 -57.714286  80.142857 -62.125000 -83.500000\n",
              "1 -59.333333  59.833333 -63.250000 -62.125000\n",
              "2 -66.200000  42.000000 -65.100000 -46.200000\n",
              "3 -59.333333  31.000000 -64.142857 -29.428571\n",
              "4 -60.833333  14.166667 -59.444444 -13.000000"
            ]
          },
          "metadata": {
            "tags": []
          },
          "execution_count": 6
        }
      ]
    },
    {
      "cell_type": "code",
      "metadata": {
        "colab": {
          "base_uri": "https://localhost:8080/",
          "height": 265
        },
        "id": "G-E1SPA1ur3x",
        "outputId": "c196fee6-00a1-4227-ea07-19ae67305360"
      },
      "source": [
        "def plot_coords(real_coords, memory_coords, save_as=None):  \n",
        "  plt.figure()\n",
        "  x = [real_coords[0], real_coords[2]]\n",
        "  y = [real_coords[1], real_coords[3]]\n",
        "  plt.scatter(x, y, label='real')\n",
        "  x = [memory_coords[0], memory_coords[2]]\n",
        "  y = [memory_coords[1], memory_coords[3]]\n",
        "  plt.scatter(x, y, label='memory', marker='x')\n",
        "\n",
        "  plt.xlim(x_bounds)\n",
        "  plt.ylim(y_bounds)\n",
        "  plt.legend()\n",
        "  \n",
        "  if save_as:\n",
        "    plt.savefig(save_as)\n",
        "    plt.close()\n",
        "# test plot function\n",
        "plot_coords(df.iloc[1], df.iloc[0])"
      ],
      "execution_count": 7,
      "outputs": [
        {
          "output_type": "display_data",
          "data": {
            "image/png": "[encoded data removed]",
            "text/plain": [
              "<Figure size 432x288 with 1 Axes>"
            ]
          },
          "metadata": {
            "tags": [],
            "needs_background": "light"
          }
        }
      ]
    },
    {
      "cell_type": "code",
      "metadata": {
        "id": "7YAvrirumhqR"
      },
      "source": [
        "class autoencoder(gluon.Block):\n",
        "    def __init__(self):\n",
        "        super(autoencoder, self).__init__()\n",
        "        with self.name_scope():\n",
        "            self.encoder = gluon.nn.Sequential('encoder_')\n",
        "            with self.encoder.name_scope():\n",
        "                self.encoder.add(gluon.nn.Dense(2, in_units = 4))\n",
        "\n",
        "            self.decoder = gluon.nn.Sequential('decoder_')\n",
        "            with self.decoder.name_scope():\n",
        "                self.decoder.add(gluon.nn.Dense(4, in_units =2))\n",
        "                \n",
        "    def encode(self, x):\n",
        "      return self.encoder(x)\n",
        "\n",
        "    def decode(self, x):\n",
        "      return self.decoder(x)\n",
        "\n",
        "    def forward(self, x):\n",
        "        x = self.encoder(x)\n",
        "        x = self.decoder(x)\n",
        "        return x"
      ],
      "execution_count": 27,
      "outputs": []
    },
    {
      "cell_type": "code",
      "metadata": {
        "id": "lvoWmbDOQuzt"
      },
      "source": [
        "if not os.path.exists('./mlp_img'):\n",
        "    os.mkdir('./mlp_img')"
      ],
      "execution_count": 9,
      "outputs": []
    },
    {
      "cell_type": "code",
      "metadata": {
        "id": "4p51W0AILVZM"
      },
      "source": [
        "num_epochs = 200\n",
        "batch_size = 128\n",
        "learning_rate = 1e-3\n",
        "ctx = mx.cpu()"
      ],
      "execution_count": 10,
      "outputs": []
    },
    {
      "cell_type": "code",
      "metadata": {
        "id": "Z77pdheJMtDm"
      },
      "source": [
        "# convert dataframe to gluon dataset\n",
        "arr = df.to_numpy(dtype=np.float32)\n",
        "dataset = mx.gluon.data.dataset.ArrayDataset(arr)\n",
        "\n",
        "dataloader = mx.gluon.data.DataLoader(dataset, batch_size=batch_size, shuffle=True)"
      ],
      "execution_count": 11,
      "outputs": []
    },
    {
      "cell_type": "code",
      "metadata": {
        "colab": {
          "base_uri": "https://localhost:8080/"
        },
        "id": "2HdcjgHvmnLx",
        "outputId": "028ef7cb-560a-4827-9713-412ee9054e34"
      },
      "source": [
        "model = autoencoder()\n",
        "model.collect_params().initialize(mx.init.Xavier(), ctx=ctx)\n",
        "criterion = gluon.loss.L2Loss()\n",
        "\n",
        "optimizer = gluon.Trainer(model.collect_params(), 'adam',\n",
        "                          {'learning_rate': learning_rate,\n",
        "                           'wd': 1e-5})\n",
        "\n",
        "for epoch in range(num_epochs):\n",
        "    running_loss = 0.0\n",
        "    n_total = 0.0\n",
        "    for data in dataloader:\n",
        "        with mx.autograd.record():\n",
        "            output = model(data)\n",
        "            loss = criterion(output, data)\n",
        "        loss.backward()\n",
        "        optimizer.step(batch_size)\n",
        "        running_loss += mx.nd.sum(loss).asscalar()\n",
        "        n_total += batch_size\n",
        "    # ===================log========================\n",
        "    print('epoch [{}/{}], loss:{:.4f}'\n",
        "          .format(epoch + 1, num_epochs, running_loss / n_total))\n",
        "    if epoch % 25 == 0:\n",
        "      #data\n",
        "      real = data.asnumpy().flatten()\n",
        "      memory = output.asnumpy().flatten()\n",
        "      plot_coords(real, memory, './mlp_img/{}_autoencoder.png'.format(epoch))\n",
        "model.save_parameters('./simple_autoencoder.params')"
      ],
      "execution_count": 28,
      "outputs": [
        {
          "output_type": "stream",
          "text": [
            "epoch [1/200], loss:3539.9113\n",
            "epoch [2/200], loss:3334.8861\n",
            "epoch [3/200], loss:3156.1140\n",
            "epoch [4/200], loss:2994.2276\n",
            "epoch [5/200], loss:2845.9875\n",
            "epoch [6/200], loss:2706.1571\n",
            "epoch [7/200], loss:2572.9610\n",
            "epoch [8/200], loss:2444.4105\n",
            "epoch [9/200], loss:2319.2567\n",
            "epoch [10/200], loss:2198.5430\n",
            "epoch [11/200], loss:2080.5215\n",
            "epoch [12/200], loss:1968.1102\n",
            "epoch [13/200], loss:1860.0713\n",
            "epoch [14/200], loss:1759.1825\n",
            "epoch [15/200], loss:1664.7799\n",
            "epoch [16/200], loss:1578.6140\n",
            "epoch [17/200], loss:1498.8278\n",
            "epoch [18/200], loss:1426.9756\n",
            "epoch [19/200], loss:1362.0492\n",
            "epoch [20/200], loss:1303.4843\n",
            "epoch [21/200], loss:1250.0906\n",
            "epoch [22/200], loss:1201.9806\n",
            "epoch [23/200], loss:1157.8445\n",
            "epoch [24/200], loss:1118.2186\n",
            "epoch [25/200], loss:1081.6715\n",
            "epoch [26/200], loss:1048.6490\n",
            "epoch [27/200], loss:1018.3628\n",
            "epoch [28/200], loss:990.8240\n",
            "epoch [29/200], loss:965.6399\n",
            "epoch [30/200], loss:942.6431\n",
            "epoch [31/200], loss:921.4690\n",
            "epoch [32/200], loss:902.0629\n",
            "epoch [33/200], loss:883.9599\n",
            "epoch [34/200], loss:867.1363\n",
            "epoch [35/200], loss:851.3909\n",
            "epoch [36/200], loss:836.4558\n",
            "epoch [37/200], loss:822.3005\n",
            "epoch [38/200], loss:808.7371\n",
            "epoch [39/200], loss:795.6491\n",
            "epoch [40/200], loss:782.9681\n",
            "epoch [41/200], loss:770.5390\n",
            "epoch [42/200], loss:758.4434\n",
            "epoch [43/200], loss:746.5689\n",
            "epoch [44/200], loss:734.8828\n",
            "epoch [45/200], loss:723.2368\n",
            "epoch [46/200], loss:711.8568\n",
            "epoch [47/200], loss:700.5027\n",
            "epoch [48/200], loss:689.1363\n",
            "epoch [49/200], loss:677.9627\n",
            "epoch [50/200], loss:666.7510\n",
            "epoch [51/200], loss:655.7822\n",
            "epoch [52/200], loss:644.5858\n",
            "epoch [53/200], loss:633.6227\n",
            "epoch [54/200], loss:622.5463\n",
            "epoch [55/200], loss:611.6720\n",
            "epoch [56/200], loss:600.7151\n",
            "epoch [57/200], loss:589.8955\n",
            "epoch [58/200], loss:579.1378\n",
            "epoch [59/200], loss:568.3959\n",
            "epoch [60/200], loss:557.6148\n",
            "epoch [61/200], loss:546.9720\n",
            "epoch [62/200], loss:536.4866\n",
            "epoch [63/200], loss:525.9895\n",
            "epoch [64/200], loss:515.5048\n",
            "epoch [65/200], loss:505.1954\n",
            "epoch [66/200], loss:495.0317\n",
            "epoch [67/200], loss:484.8420\n",
            "epoch [68/200], loss:474.8969\n",
            "epoch [69/200], loss:464.8939\n",
            "epoch [70/200], loss:455.2344\n",
            "epoch [71/200], loss:445.6495\n",
            "epoch [72/200], loss:436.2881\n",
            "epoch [73/200], loss:426.9638\n",
            "epoch [74/200], loss:417.8510\n",
            "epoch [75/200], loss:409.0337\n",
            "epoch [76/200], loss:400.4621\n",
            "epoch [77/200], loss:392.0399\n",
            "epoch [78/200], loss:383.8513\n",
            "epoch [79/200], loss:375.9818\n",
            "epoch [80/200], loss:368.2320\n",
            "epoch [81/200], loss:360.9562\n",
            "epoch [82/200], loss:353.7814\n",
            "epoch [83/200], loss:346.9700\n",
            "epoch [84/200], loss:340.4159\n",
            "epoch [85/200], loss:334.1906\n",
            "epoch [86/200], loss:328.2180\n",
            "epoch [87/200], loss:322.5320\n",
            "epoch [88/200], loss:317.1639\n",
            "epoch [89/200], loss:312.0714\n",
            "epoch [90/200], loss:307.2788\n",
            "epoch [91/200], loss:302.7216\n",
            "epoch [92/200], loss:298.5063\n",
            "epoch [93/200], loss:294.4829\n",
            "epoch [94/200], loss:290.7260\n",
            "epoch [95/200], loss:287.2162\n",
            "epoch [96/200], loss:283.9052\n",
            "epoch [97/200], loss:280.8363\n",
            "epoch [98/200], loss:277.9870\n",
            "epoch [99/200], loss:275.3009\n",
            "epoch [100/200], loss:272.8420\n",
            "epoch [101/200], loss:270.4746\n",
            "epoch [102/200], loss:268.2298\n",
            "epoch [103/200], loss:266.1872\n",
            "epoch [104/200], loss:264.2542\n",
            "epoch [105/200], loss:262.4125\n",
            "epoch [106/200], loss:260.6978\n",
            "epoch [107/200], loss:259.0693\n",
            "epoch [108/200], loss:257.5702\n",
            "epoch [109/200], loss:256.0903\n",
            "epoch [110/200], loss:254.7041\n",
            "epoch [111/200], loss:253.3788\n",
            "epoch [112/200], loss:252.1339\n",
            "epoch [113/200], loss:250.9257\n",
            "epoch [114/200], loss:249.7552\n",
            "epoch [115/200], loss:248.6522\n",
            "epoch [116/200], loss:247.5972\n",
            "epoch [117/200], loss:246.5431\n",
            "epoch [118/200], loss:245.5702\n",
            "epoch [119/200], loss:244.6314\n",
            "epoch [120/200], loss:243.7233\n",
            "epoch [121/200], loss:242.8126\n",
            "epoch [122/200], loss:241.9907\n",
            "epoch [123/200], loss:241.1318\n",
            "epoch [124/200], loss:240.3689\n",
            "epoch [125/200], loss:239.5736\n",
            "epoch [126/200], loss:238.8596\n",
            "epoch [127/200], loss:238.1326\n",
            "epoch [128/200], loss:237.3660\n",
            "epoch [129/200], loss:236.7183\n",
            "epoch [130/200], loss:236.0538\n",
            "epoch [131/200], loss:235.4007\n",
            "epoch [132/200], loss:234.7806\n",
            "epoch [133/200], loss:234.1618\n",
            "epoch [134/200], loss:233.5829\n",
            "epoch [135/200], loss:233.0579\n",
            "epoch [136/200], loss:232.4475\n",
            "epoch [137/200], loss:231.9241\n",
            "epoch [138/200], loss:231.4231\n",
            "epoch [139/200], loss:230.9897\n",
            "epoch [140/200], loss:230.4314\n",
            "epoch [141/200], loss:229.9701\n",
            "epoch [142/200], loss:229.5127\n",
            "epoch [143/200], loss:229.0820\n",
            "epoch [144/200], loss:228.6542\n",
            "epoch [145/200], loss:228.2051\n",
            "epoch [146/200], loss:227.8134\n",
            "epoch [147/200], loss:227.4210\n",
            "epoch [148/200], loss:227.0295\n",
            "epoch [149/200], loss:226.6818\n",
            "epoch [150/200], loss:226.3475\n",
            "epoch [151/200], loss:226.0936\n",
            "epoch [152/200], loss:225.6921\n",
            "epoch [153/200], loss:225.3307\n",
            "epoch [154/200], loss:225.0266\n",
            "epoch [155/200], loss:224.7411\n",
            "epoch [156/200], loss:224.4354\n",
            "epoch [157/200], loss:224.1665\n",
            "epoch [158/200], loss:223.8997\n",
            "epoch [159/200], loss:223.6414\n",
            "epoch [160/200], loss:223.4015\n",
            "epoch [161/200], loss:223.2093\n",
            "epoch [162/200], loss:222.9291\n",
            "epoch [163/200], loss:222.7147\n",
            "epoch [164/200], loss:222.5386\n",
            "epoch [165/200], loss:222.2906\n",
            "epoch [166/200], loss:222.1260\n",
            "epoch [167/200], loss:221.9297\n",
            "epoch [168/200], loss:221.7432\n",
            "epoch [169/200], loss:221.6078\n",
            "epoch [170/200], loss:221.4063\n",
            "epoch [171/200], loss:221.2647\n",
            "epoch [172/200], loss:221.1017\n",
            "epoch [173/200], loss:220.9666\n",
            "epoch [174/200], loss:220.8799\n",
            "epoch [175/200], loss:220.7030\n",
            "epoch [176/200], loss:220.5903\n",
            "epoch [177/200], loss:220.4610\n",
            "epoch [178/200], loss:220.3506\n",
            "epoch [179/200], loss:220.2294\n",
            "epoch [180/200], loss:220.1664\n",
            "epoch [181/200], loss:220.0611\n",
            "epoch [182/200], loss:219.9351\n",
            "epoch [183/200], loss:219.8349\n",
            "epoch [184/200], loss:219.7750\n",
            "epoch [185/200], loss:219.6964\n",
            "epoch [186/200], loss:219.6355\n",
            "epoch [187/200], loss:219.6095\n",
            "epoch [188/200], loss:219.5511\n",
            "epoch [189/200], loss:219.5050\n",
            "epoch [190/200], loss:219.3959\n",
            "epoch [191/200], loss:219.2980\n",
            "epoch [192/200], loss:219.2647\n",
            "epoch [193/200], loss:219.2107\n",
            "epoch [194/200], loss:219.1599\n",
            "epoch [195/200], loss:219.1345\n",
            "epoch [196/200], loss:219.1167\n",
            "epoch [197/200], loss:219.0264\n",
            "epoch [198/200], loss:218.9938\n",
            "epoch [199/200], loss:218.9482\n",
            "epoch [200/200], loss:218.9058\n"
          ],
          "name": "stdout"
        }
      ]
    },
    {
      "cell_type": "code",
      "metadata": {
        "colab": {
          "base_uri": "https://localhost:8080/"
        },
        "id": "9iR93zNZH_5S",
        "outputId": "dc0b54ee-ffd4-45f8-a7a4-993e198e85f7"
      },
      "source": [
        "# test network\n",
        "init_state = mx.nd.array([df.iloc[0]])\n",
        "print(init_state)\n",
        "encoding = model.encode(init_state)\n",
        "print(encoding)\n",
        "decoding = model.decode(encoding)\n",
        "print(decoding)"
      ],
      "execution_count": 13,
      "outputs": [
        {
          "output_type": "stream",
          "text": [
            "\n",
            "[[-57.714287  80.14286  -62.125    -83.5     ]]\n",
            "<NDArray 1x4 @cpu(0)>\n",
            "\n",
            "[[41.17985   -7.6087823]]\n",
            "<NDArray 1x2 @cpu(0)>\n",
            "\n",
            "[[-42.623146 -27.492971 -44.615887 -40.580906]]\n",
            "<NDArray 1x4 @cpu(0)>\n"
          ],
          "name": "stdout"
        }
      ]
    },
    {
      "cell_type": "code",
      "metadata": {
        "colab": {
          "base_uri": "https://localhost:8080/"
        },
        "id": "mXQ1uqPkgMHW",
        "outputId": "401d3f78-d446-47b5-cade-5dac3c661070"
      },
      "source": [
        "# test loading the model\n",
        "model2 = autoencoder()\n",
        "model2.load_parameters('./simple_autoencoder.params', ctx=ctx)\n",
        "\n",
        "# test network\n",
        "init_state = mx.nd.array([df.iloc[0]])\n",
        "print(init_state)\n",
        "encoding = model2.encode(init_state)\n",
        "print(encoding)\n",
        "decoding = model2.decode(encoding)\n",
        "print(decoding)"
      ],
      "execution_count": 14,
      "outputs": [
        {
          "output_type": "stream",
          "text": [
            "\n",
            "[[-57.714287  80.14286  -62.125    -83.5     ]]\n",
            "<NDArray 1x4 @cpu(0)>\n",
            "\n",
            "[[41.17985   -7.6087823]]\n",
            "<NDArray 1x2 @cpu(0)>\n",
            "\n",
            "[[-42.623146 -27.492971 -44.615887 -40.580906]]\n",
            "<NDArray 1x4 @cpu(0)>\n"
          ],
          "name": "stdout"
        }
      ]
    },
    {
      "cell_type": "code",
      "metadata": {
        "id": "p1vBA9fqgg3D"
      },
      "source": [
        ""
      ],
      "execution_count": 14,
      "outputs": []
    }
  ]
}
